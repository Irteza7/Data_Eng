{
 "cells": [
  {
   "cell_type": "code",
   "execution_count": 4,
   "metadata": {},
   "outputs": [
    {
     "name": "stdout",
     "output_type": "stream",
     "text": [
      "Connected to database:  BLUDB as user:  ynr01638 on host:  764264db-9824-4b7c-82df-40d1b13897c2.bs2io90l08kqb1od8lcg.databases.appdomain.cloud\n"
     ]
    },
    {
     "data": {
      "text/plain": [
       "<function ibm_db.close>"
      ]
     },
     "execution_count": 4,
     "metadata": {},
     "output_type": "execute_result"
    }
   ],
   "source": [
    "import ibm_db\n",
    "import ibm_db_dbi\n",
    "import ibm_db_sa\n",
    "import sqlalchemy\n",
    "import pandas as pd\n",
    "\n",
    "\n",
    "dsn_hostname = \"764264db-9824-4b7c-82df-40d1b13897c2.bs2io90l08kqb1od8lcg.databases.appdomain.cloud\" # e.g.: \"54a2f15b-5c0f-46df-8954-7e38e612c2bd.c1ogj3sd0tgtu0lqde00.databases.appdomain.cloud\"\n",
    "dsn_uid = \"ynr01638\"        # e.g. \"abc12345\"\n",
    "dsn_pwd = \"IXOaPrYHTMmngIQ2\"      # e.g. \"7dBZ3wWt9XN6$o0J\"\n",
    "\n",
    "dsn_driver = \"{IBM DB2 ODBC DRIVER}\"\n",
    "dsn_database = \"BLUDB\"            # e.g. \"BLUDB\"\n",
    "dsn_port = \"32536\"                # e.g. \"32733\" \n",
    "dsn_protocol = \"TCPIP\"            # i.e. \"TCPIP\"\n",
    "dsn_security = \"SSL\"              #i.e. \"SSL\"\n",
    "\n",
    "\n",
    "#Create the dsn connection string\n",
    "dsn = (\n",
    "    \"DRIVER={0};\"\n",
    "    \"DATABASE={1};\"\n",
    "    \"HOSTNAME={2};\"\n",
    "    \"PORT={3};\"\n",
    "    \"PROTOCOL={4};\"\n",
    "    \"UID={5};\"\n",
    "    \"PWD={6};\"\n",
    "    \"SECURITY={7};\").format(dsn_driver, dsn_database, dsn_hostname, dsn_port, dsn_protocol, dsn_uid, dsn_pwd,dsn_security)\n",
    "\n",
    "\n",
    "\n",
    "#Create database connection\n",
    "\n",
    "try:\n",
    "    conn = ibm_db.connect(dsn, \"\", \"\")\n",
    "    print (\"Connected to database: \", dsn_database, \"as user: \", dsn_uid, \"on host: \", dsn_hostname)\n",
    "\n",
    "except:\n",
    "    print (\"Unable to connect: \", ibm_db.conn_errormsg() )\n",
    "\n"
   ]
  },
  {
   "cell_type": "code",
   "execution_count": 5,
   "metadata": {},
   "outputs": [
    {
     "data": {
      "text/plain": [
       "True"
      ]
     },
     "execution_count": 5,
     "metadata": {},
     "output_type": "execute_result"
    }
   ],
   "source": [
    "ibm_db.close(conn)\n"
   ]
  },
  {
   "cell_type": "code",
   "execution_count": 2,
   "metadata": {},
   "outputs": [],
   "source": [
    "%load_ext sql\n"
   ]
  },
  {
   "cell_type": "code",
   "execution_count": 8,
   "metadata": {},
   "outputs": [],
   "source": [
    "%sql ibm_db_sa://ynr01638:IXOaPrYHTMmngIQ2@764264db-9824-4b7c-82df-40d1b13897c2.bs2io90l08kqb1od8lcg.databases.appdomain.cloud:32536/bludb?security=SSL"
   ]
  },
  {
   "cell_type": "code",
   "execution_count": 13,
   "metadata": {},
   "outputs": [
    {
     "name": "stdout",
     "output_type": "stream",
     "text": [
      " * ibm_db_sa://ynr01638:***@764264db-9824-4b7c-82df-40d1b13897c2.bs2io90l08kqb1od8lcg.databases.appdomain.cloud:32536/bludb\n",
      "Done.\n"
     ]
    },
    {
     "data": {
      "text/html": [
       "<table>\n",
       "    <tr>\n",
       "        <th>tabschema</th>\n",
       "        <th>tabname</th>\n",
       "        <th>create_time</th>\n",
       "    </tr>\n",
       "    <tr>\n",
       "        <td>YNR01638</td>\n",
       "        <td>CARSALESTABLE</td>\n",
       "        <td>2023-04-19 23:02:51.029081</td>\n",
       "    </tr>\n",
       "    <tr>\n",
       "        <td>YNR01638</td>\n",
       "        <td>BOOKSHOP</td>\n",
       "        <td>2023-04-28 23:01:33.744462</td>\n",
       "    </tr>\n",
       "    <tr>\n",
       "        <td>YNR01638</td>\n",
       "        <td>BOOKSHOP_AUTHORDETAILS</td>\n",
       "        <td>2023-04-28 23:07:15.525863</td>\n",
       "    </tr>\n",
       "    <tr>\n",
       "        <td>YNR01638</td>\n",
       "        <td>PETSHOP</td>\n",
       "        <td>2023-04-28 21:54:00.514024</td>\n",
       "    </tr>\n",
       "    <tr>\n",
       "        <td>YNR01638</td>\n",
       "        <td>PETRESCUE</td>\n",
       "        <td>2023-05-03 12:40:57.243880</td>\n",
       "    </tr>\n",
       "    <tr>\n",
       "        <td>YNR01638</td>\n",
       "        <td>EMPLOYEES</td>\n",
       "        <td>2023-05-03 13:25:47.260426</td>\n",
       "    </tr>\n",
       "    <tr>\n",
       "        <td>YNR01638</td>\n",
       "        <td>JOB_HISTORY</td>\n",
       "        <td>2023-05-03 13:25:47.500717</td>\n",
       "    </tr>\n",
       "    <tr>\n",
       "        <td>YNR01638</td>\n",
       "        <td>JOBS</td>\n",
       "        <td>2023-05-03 13:25:47.754765</td>\n",
       "    </tr>\n",
       "    <tr>\n",
       "        <td>YNR01638</td>\n",
       "        <td>DEPARTMENTS</td>\n",
       "        <td>2023-05-03 13:25:47.999953</td>\n",
       "    </tr>\n",
       "    <tr>\n",
       "        <td>YNR01638</td>\n",
       "        <td>LOCATIONS</td>\n",
       "        <td>2023-05-03 13:25:48.231917</td>\n",
       "    </tr>\n",
       "    <tr>\n",
       "        <td>YNR01638</td>\n",
       "        <td>INSTRUCTOR</td>\n",
       "        <td>2023-05-04 12:49:33.441489</td>\n",
       "    </tr>\n",
       "    <tr>\n",
       "        <td>YNR01638</td>\n",
       "        <td>CHICAGO_PUBLIC_SCHOOLS</td>\n",
       "        <td>2023-05-05 13:48:24.970552</td>\n",
       "    </tr>\n",
       "    <tr>\n",
       "        <td>YNR01638</td>\n",
       "        <td>CHICAGO_CRIME_DATA</td>\n",
       "        <td>2023-05-05 13:50:22.330834</td>\n",
       "    </tr>\n",
       "    <tr>\n",
       "        <td>YNR01638</td>\n",
       "        <td>CENSUS_DATA</td>\n",
       "        <td>2023-05-05 19:57:42.809958</td>\n",
       "    </tr>\n",
       "</table>"
      ],
      "text/plain": [
       "[('YNR01638', 'CARSALESTABLE', datetime.datetime(2023, 4, 19, 23, 2, 51, 29081)),\n",
       " ('YNR01638', 'BOOKSHOP', datetime.datetime(2023, 4, 28, 23, 1, 33, 744462)),\n",
       " ('YNR01638', 'BOOKSHOP_AUTHORDETAILS', datetime.datetime(2023, 4, 28, 23, 7, 15, 525863)),\n",
       " ('YNR01638', 'PETSHOP', datetime.datetime(2023, 4, 28, 21, 54, 0, 514024)),\n",
       " ('YNR01638', 'PETRESCUE', datetime.datetime(2023, 5, 3, 12, 40, 57, 243880)),\n",
       " ('YNR01638', 'EMPLOYEES', datetime.datetime(2023, 5, 3, 13, 25, 47, 260426)),\n",
       " ('YNR01638', 'JOB_HISTORY', datetime.datetime(2023, 5, 3, 13, 25, 47, 500717)),\n",
       " ('YNR01638', 'JOBS', datetime.datetime(2023, 5, 3, 13, 25, 47, 754765)),\n",
       " ('YNR01638', 'DEPARTMENTS', datetime.datetime(2023, 5, 3, 13, 25, 47, 999953)),\n",
       " ('YNR01638', 'LOCATIONS', datetime.datetime(2023, 5, 3, 13, 25, 48, 231917)),\n",
       " ('YNR01638', 'INSTRUCTOR', datetime.datetime(2023, 5, 4, 12, 49, 33, 441489)),\n",
       " ('YNR01638', 'CHICAGO_PUBLIC_SCHOOLS', datetime.datetime(2023, 5, 5, 13, 48, 24, 970552)),\n",
       " ('YNR01638', 'CHICAGO_CRIME_DATA', datetime.datetime(2023, 5, 5, 13, 50, 22, 330834)),\n",
       " ('YNR01638', 'CENSUS_DATA', datetime.datetime(2023, 5, 5, 19, 57, 42, 809958))]"
      ]
     },
     "execution_count": 13,
     "metadata": {},
     "output_type": "execute_result"
    }
   ],
   "source": [
    "%%sql\n",
    "select tabschema, tabname, create_time from syscat.tables where tabschema = 'YNR01638'"
   ]
  },
  {
   "cell_type": "code",
   "execution_count": 21,
   "metadata": {},
   "outputs": [
    {
     "name": "stdout",
     "output_type": "stream",
     "text": [
      " * ibm_db_sa://ynr01638:***@764264db-9824-4b7c-82df-40d1b13897c2.bs2io90l08kqb1od8lcg.databases.appdomain.cloud:32536/bludb\n",
      "Done.\n"
     ]
    },
    {
     "data": {
      "text/html": [
       "<table>\n",
       "    <tr>\n",
       "        <th>colname</th>\n",
       "    </tr>\n",
       "    <tr>\n",
       "        <td>ARREST</td>\n",
       "    </tr>\n",
       "    <tr>\n",
       "        <td>BEAT</td>\n",
       "    </tr>\n",
       "    <tr>\n",
       "        <td>BLOCK</td>\n",
       "    </tr>\n",
       "    <tr>\n",
       "        <td>CASE_NUMBER</td>\n",
       "    </tr>\n",
       "    <tr>\n",
       "        <td>COMMUNITY_AREA_NUMBER</td>\n",
       "    </tr>\n",
       "    <tr>\n",
       "        <td>DATE</td>\n",
       "    </tr>\n",
       "    <tr>\n",
       "        <td>DESCRIPTION</td>\n",
       "    </tr>\n",
       "    <tr>\n",
       "        <td>DISTRICT</td>\n",
       "    </tr>\n",
       "    <tr>\n",
       "        <td>DOMESTIC</td>\n",
       "    </tr>\n",
       "    <tr>\n",
       "        <td>FBICODE</td>\n",
       "    </tr>\n",
       "    <tr>\n",
       "        <td>ID</td>\n",
       "    </tr>\n",
       "    <tr>\n",
       "        <td>IUCR</td>\n",
       "    </tr>\n",
       "    <tr>\n",
       "        <td>LATITUDE</td>\n",
       "    </tr>\n",
       "    <tr>\n",
       "        <td>LOCATION</td>\n",
       "    </tr>\n",
       "    <tr>\n",
       "        <td>LOCATION_DESCRIPTION</td>\n",
       "    </tr>\n",
       "    <tr>\n",
       "        <td>LONGITUDE</td>\n",
       "    </tr>\n",
       "    <tr>\n",
       "        <td>PRIMARY_TYPE</td>\n",
       "    </tr>\n",
       "    <tr>\n",
       "        <td>WARD</td>\n",
       "    </tr>\n",
       "    <tr>\n",
       "        <td>X_COORDINATE</td>\n",
       "    </tr>\n",
       "    <tr>\n",
       "        <td>YEAR</td>\n",
       "    </tr>\n",
       "    <tr>\n",
       "        <td>Y_COORDINATE</td>\n",
       "    </tr>\n",
       "</table>"
      ],
      "text/plain": [
       "[('ARREST',),\n",
       " ('BEAT',),\n",
       " ('BLOCK',),\n",
       " ('CASE_NUMBER',),\n",
       " ('COMMUNITY_AREA_NUMBER',),\n",
       " ('DATE',),\n",
       " ('DESCRIPTION',),\n",
       " ('DISTRICT',),\n",
       " ('DOMESTIC',),\n",
       " ('FBICODE',),\n",
       " ('ID',),\n",
       " ('IUCR',),\n",
       " ('LATITUDE',),\n",
       " ('LOCATION',),\n",
       " ('LOCATION_DESCRIPTION',),\n",
       " ('LONGITUDE',),\n",
       " ('PRIMARY_TYPE',),\n",
       " ('WARD',),\n",
       " ('X_COORDINATE',),\n",
       " ('YEAR',),\n",
       " ('Y_COORDINATE',)]"
      ]
     },
     "execution_count": 21,
     "metadata": {},
     "output_type": "execute_result"
    }
   ],
   "source": [
    "%%sql\n",
    "Select colname from syscat.columns where tabname = 'CHICAGO_CRIME_DATA'"
   ]
  },
  {
   "cell_type": "code",
   "execution_count": 55,
   "metadata": {},
   "outputs": [
    {
     "name": "stdout",
     "output_type": "stream",
     "text": [
      " * ibm_db_sa://ynr01638:***@764264db-9824-4b7c-82df-40d1b13897c2.bs2io90l08kqb1od8lcg.databases.appdomain.cloud:32536/bludb\n",
      "Done.\n"
     ]
    },
    {
     "data": {
      "text/html": [
       "<table>\n",
       "    <tr>\n",
       "        <th>id</th>\n",
       "        <th>case_number</th>\n",
       "        <th>DATE</th>\n",
       "        <th>block</th>\n",
       "        <th>iucr</th>\n",
       "        <th>primary_type</th>\n",
       "        <th>description</th>\n",
       "        <th>location_description</th>\n",
       "        <th>arrest</th>\n",
       "        <th>domestic</th>\n",
       "        <th>beat</th>\n",
       "        <th>district</th>\n",
       "        <th>ward</th>\n",
       "        <th>community_area_number</th>\n",
       "        <th>fbicode</th>\n",
       "        <th>x_coordinate</th>\n",
       "        <th>y_coordinate</th>\n",
       "        <th>YEAR</th>\n",
       "        <th>latitude</th>\n",
       "        <th>longitude</th>\n",
       "        <th>location</th>\n",
       "    </tr>\n",
       "    <tr>\n",
       "        <td>3512276</td>\n",
       "        <td>HK587712</td>\n",
       "        <td>2004-08-28</td>\n",
       "        <td>047XX S KEDZIE AVE</td>\n",
       "        <td>890</td>\n",
       "        <td>THEFT</td>\n",
       "        <td>FROM BUILDING</td>\n",
       "        <td>SMALL RETAIL STORE</td>\n",
       "        <td>FALSE</td>\n",
       "        <td>FALSE</td>\n",
       "        <td>911</td>\n",
       "        <td>9</td>\n",
       "        <td>14</td>\n",
       "        <td>58</td>\n",
       "        <td>6</td>\n",
       "        <td>1155838</td>\n",
       "        <td>1873050</td>\n",
       "        <td>2004</td>\n",
       "        <td>41.80744050</td>\n",
       "        <td>-87.70395585</td>\n",
       "        <td>(41.8074405, -87.703955849)</td>\n",
       "    </tr>\n",
       "    <tr>\n",
       "        <td>3406613</td>\n",
       "        <td>HK456306</td>\n",
       "        <td>2004-06-26</td>\n",
       "        <td>009XX N CENTRAL PARK AVE</td>\n",
       "        <td>820</td>\n",
       "        <td>THEFT</td>\n",
       "        <td>$500 AND UNDER</td>\n",
       "        <td>OTHER</td>\n",
       "        <td>FALSE</td>\n",
       "        <td>FALSE</td>\n",
       "        <td>1112</td>\n",
       "        <td>11</td>\n",
       "        <td>27</td>\n",
       "        <td>23</td>\n",
       "        <td>6</td>\n",
       "        <td>1152206</td>\n",
       "        <td>1906127</td>\n",
       "        <td>2004</td>\n",
       "        <td>41.89827996</td>\n",
       "        <td>-87.71640551</td>\n",
       "        <td>(41.898279962, -87.716405505)</td>\n",
       "    </tr>\n",
       "    <tr>\n",
       "        <td>8002131</td>\n",
       "        <td>HT233595</td>\n",
       "        <td>2011-04-04</td>\n",
       "        <td>043XX S WABASH AVE</td>\n",
       "        <td>820</td>\n",
       "        <td>THEFT</td>\n",
       "        <td>$500 AND UNDER</td>\n",
       "        <td>NURSING HOME/RETIREMENT HOME</td>\n",
       "        <td>FALSE</td>\n",
       "        <td>FALSE</td>\n",
       "        <td>221</td>\n",
       "        <td>2</td>\n",
       "        <td>3</td>\n",
       "        <td>38</td>\n",
       "        <td>6</td>\n",
       "        <td>1177436</td>\n",
       "        <td>1876313</td>\n",
       "        <td>2011</td>\n",
       "        <td>41.81593313</td>\n",
       "        <td>-87.62464213</td>\n",
       "        <td>(41.815933131, -87.624642127)</td>\n",
       "    </tr>\n",
       "    <tr>\n",
       "        <td>7903289</td>\n",
       "        <td>HT133522</td>\n",
       "        <td>2010-12-30</td>\n",
       "        <td>083XX S KINGSTON AVE</td>\n",
       "        <td>840</td>\n",
       "        <td>THEFT</td>\n",
       "        <td>FINANCIAL ID THEFT: OVER $300</td>\n",
       "        <td>RESIDENCE</td>\n",
       "        <td>FALSE</td>\n",
       "        <td>FALSE</td>\n",
       "        <td>423</td>\n",
       "        <td>4</td>\n",
       "        <td>7</td>\n",
       "        <td>46</td>\n",
       "        <td>6</td>\n",
       "        <td>1194622</td>\n",
       "        <td>1850125</td>\n",
       "        <td>2010</td>\n",
       "        <td>41.74366532</td>\n",
       "        <td>-87.56246276</td>\n",
       "        <td>(41.743665322, -87.562462756)</td>\n",
       "    </tr>\n",
       "    <tr>\n",
       "        <td>10402076</td>\n",
       "        <td>HZ138551</td>\n",
       "        <td>2016-02-02</td>\n",
       "        <td>033XX W 66TH ST</td>\n",
       "        <td>820</td>\n",
       "        <td>THEFT</td>\n",
       "        <td>$500 AND UNDER</td>\n",
       "        <td>ALLEY</td>\n",
       "        <td>FALSE</td>\n",
       "        <td>FALSE</td>\n",
       "        <td>831</td>\n",
       "        <td>8</td>\n",
       "        <td>15</td>\n",
       "        <td>66</td>\n",
       "        <td>6</td>\n",
       "        <td>1155240</td>\n",
       "        <td>1860661</td>\n",
       "        <td>2016</td>\n",
       "        <td>41.77345530</td>\n",
       "        <td>-87.70648047</td>\n",
       "        <td>(41.773455295, -87.706480471)</td>\n",
       "    </tr>\n",
       "</table>"
      ],
      "text/plain": [
       "[(3512276, 'HK587712', datetime.date(2004, 8, 28), '047XX S KEDZIE AVE', '890', 'THEFT', 'FROM BUILDING', 'SMALL RETAIL STORE', 'FALSE', 'FALSE', 911, 9, 14, 58, '6', 1155838, 1873050, 2004, Decimal('41.80744050'), Decimal('-87.70395585'), '(41.8074405, -87.703955849)'),\n",
       " (3406613, 'HK456306', datetime.date(2004, 6, 26), '009XX N CENTRAL PARK AVE', '820', 'THEFT', '$500 AND UNDER', 'OTHER', 'FALSE', 'FALSE', 1112, 11, 27, 23, '6', 1152206, 1906127, 2004, Decimal('41.89827996'), Decimal('-87.71640551'), '(41.898279962, -87.716405505)'),\n",
       " (8002131, 'HT233595', datetime.date(2011, 4, 4), '043XX S WABASH AVE', '820', 'THEFT', '$500 AND UNDER', 'NURSING HOME/RETIREMENT HOME', 'FALSE', 'FALSE', 221, 2, 3, 38, '6', 1177436, 1876313, 2011, Decimal('41.81593313'), Decimal('-87.62464213'), '(41.815933131, -87.624642127)'),\n",
       " (7903289, 'HT133522', datetime.date(2010, 12, 30), '083XX S KINGSTON AVE', '840', 'THEFT', 'FINANCIAL ID THEFT: OVER $300', 'RESIDENCE', 'FALSE', 'FALSE', 423, 4, 7, 46, '6', 1194622, 1850125, 2010, Decimal('41.74366532'), Decimal('-87.56246276'), '(41.743665322, -87.562462756)'),\n",
       " (10402076, 'HZ138551', datetime.date(2016, 2, 2), '033XX W 66TH ST', '820', 'THEFT', '$500 AND UNDER', 'ALLEY', 'FALSE', 'FALSE', 831, 8, 15, 66, '6', 1155240, 1860661, 2016, Decimal('41.77345530'), Decimal('-87.70648047'), '(41.773455295, -87.706480471)')]"
      ]
     },
     "execution_count": 55,
     "metadata": {},
     "output_type": "execute_result"
    }
   ],
   "source": [
    "%%sql\n",
    "select * from CHICAGO_CRIME_DATA limit 5"
   ]
  },
  {
   "attachments": {},
   "cell_type": "markdown",
   "metadata": {},
   "source": [
    "Problem 1: Find the total number of crimes recorded in the CRIME table."
   ]
  },
  {
   "cell_type": "code",
   "execution_count": 23,
   "metadata": {},
   "outputs": [
    {
     "name": "stdout",
     "output_type": "stream",
     "text": [
      " * ibm_db_sa://ynr01638:***@764264db-9824-4b7c-82df-40d1b13897c2.bs2io90l08kqb1od8lcg.databases.appdomain.cloud:32536/bludb\n",
      "Done.\n"
     ]
    },
    {
     "data": {
      "text/html": [
       "<table>\n",
       "    <tr>\n",
       "        <th>1</th>\n",
       "    </tr>\n",
       "    <tr>\n",
       "        <td>533</td>\n",
       "    </tr>\n",
       "</table>"
      ],
      "text/plain": [
       "[(533,)]"
      ]
     },
     "execution_count": 23,
     "metadata": {},
     "output_type": "execute_result"
    }
   ],
   "source": [
    "%%sql\n",
    "select count(*) from CHICAGO_CRIME_DATA"
   ]
  },
  {
   "cell_type": "code",
   "execution_count": 25,
   "metadata": {},
   "outputs": [
    {
     "name": "stdout",
     "output_type": "stream",
     "text": [
      " * ibm_db_sa://ynr01638:***@764264db-9824-4b7c-82df-40d1b13897c2.bs2io90l08kqb1od8lcg.databases.appdomain.cloud:32536/bludb\n",
      "Done.\n"
     ]
    },
    {
     "data": {
      "text/html": [
       "<table>\n",
       "    <tr>\n",
       "        <th>colname</th>\n",
       "    </tr>\n",
       "    <tr>\n",
       "        <td>COMMUNITY_AREA_NAME</td>\n",
       "    </tr>\n",
       "    <tr>\n",
       "        <td>COMMUNITY_AREA_NUMBER</td>\n",
       "    </tr>\n",
       "    <tr>\n",
       "        <td>HARDSHIP_INDEX</td>\n",
       "    </tr>\n",
       "    <tr>\n",
       "        <td>PERCENT_AGED_16__UNEMPLOYED</td>\n",
       "    </tr>\n",
       "    <tr>\n",
       "        <td>PERCENT_AGED_25__WITHOUT_HIGH_SCHOOL_DIPLOMA</td>\n",
       "    </tr>\n",
       "    <tr>\n",
       "        <td>PERCENT_AGED_UNDER_18_OR_OVER_64</td>\n",
       "    </tr>\n",
       "    <tr>\n",
       "        <td>PERCENT_HOUSEHOLDS_BELOW_POVERTY</td>\n",
       "    </tr>\n",
       "    <tr>\n",
       "        <td>PERCENT_OF_HOUSING_CROWDED</td>\n",
       "    </tr>\n",
       "    <tr>\n",
       "        <td>PER_CAPITA_INCOME</td>\n",
       "    </tr>\n",
       "</table>"
      ],
      "text/plain": [
       "[('COMMUNITY_AREA_NAME',),\n",
       " ('COMMUNITY_AREA_NUMBER',),\n",
       " ('HARDSHIP_INDEX',),\n",
       " ('PERCENT_AGED_16__UNEMPLOYED',),\n",
       " ('PERCENT_AGED_25__WITHOUT_HIGH_SCHOOL_DIPLOMA',),\n",
       " ('PERCENT_AGED_UNDER_18_OR_OVER_64',),\n",
       " ('PERCENT_HOUSEHOLDS_BELOW_POVERTY',),\n",
       " ('PERCENT_OF_HOUSING_CROWDED',),\n",
       " ('PER_CAPITA_INCOME',)]"
      ]
     },
     "execution_count": 25,
     "metadata": {},
     "output_type": "execute_result"
    }
   ],
   "source": [
    "%%sql\n",
    "select colname from syscat.columns where tabname = 'CENSUS_DATA'"
   ]
  },
  {
   "attachments": {},
   "cell_type": "markdown",
   "metadata": {},
   "source": [
    "Problem 2: List community areas with per capita income less than 11000."
   ]
  },
  {
   "cell_type": "code",
   "execution_count": 26,
   "metadata": {},
   "outputs": [
    {
     "name": "stdout",
     "output_type": "stream",
     "text": [
      " * ibm_db_sa://ynr01638:***@764264db-9824-4b7c-82df-40d1b13897c2.bs2io90l08kqb1od8lcg.databases.appdomain.cloud:32536/bludb\n",
      "Done.\n"
     ]
    },
    {
     "data": {
      "text/html": [
       "<table>\n",
       "    <tr>\n",
       "        <th>community_area_name</th>\n",
       "        <th>per_capita_income</th>\n",
       "    </tr>\n",
       "    <tr>\n",
       "        <td>West Garfield Park</td>\n",
       "        <td>10934</td>\n",
       "    </tr>\n",
       "    <tr>\n",
       "        <td>South Lawndale</td>\n",
       "        <td>10402</td>\n",
       "    </tr>\n",
       "    <tr>\n",
       "        <td>Fuller Park</td>\n",
       "        <td>10432</td>\n",
       "    </tr>\n",
       "    <tr>\n",
       "        <td>Riverdale</td>\n",
       "        <td>8201</td>\n",
       "    </tr>\n",
       "</table>"
      ],
      "text/plain": [
       "[('West Garfield Park', 10934),\n",
       " ('South Lawndale', 10402),\n",
       " ('Fuller Park', 10432),\n",
       " ('Riverdale', 8201)]"
      ]
     },
     "execution_count": 26,
     "metadata": {},
     "output_type": "execute_result"
    }
   ],
   "source": [
    "%%sql\n",
    "select COMMUNITY_AREA_NAME, PER_CAPITA_INCOME from CENSUS_DATA where PER_CAPITA_INCOME <='11000'"
   ]
  },
  {
   "cell_type": "code",
   "execution_count": 47,
   "metadata": {},
   "outputs": [
    {
     "name": "stdout",
     "output_type": "stream",
     "text": [
      " * ibm_db_sa://ynr01638:***@764264db-9824-4b7c-82df-40d1b13897c2.bs2io90l08kqb1od8lcg.databases.appdomain.cloud:32536/bludb\n",
      "Done.\n",
      " * ibm_db_sa://ynr01638:***@764264db-9824-4b7c-82df-40d1b13897c2.bs2io90l08kqb1od8lcg.databases.appdomain.cloud:32536/bludb\n",
      "Done.\n",
      " * ibm_db_sa://ynr01638:***@764264db-9824-4b7c-82df-40d1b13897c2.bs2io90l08kqb1od8lcg.databases.appdomain.cloud:32536/bludb\n",
      "Done.\n"
     ]
    },
    {
     "data": {
      "text/plain": [
       "{'COMMUNITY_AREA_NUMBER'}"
      ]
     },
     "execution_count": 47,
     "metadata": {},
     "output_type": "execute_result"
    }
   ],
   "source": [
    "results1 = %sql Select colname from syscat.columns where tabname = 'CHICAGO_PUBLIC_SCHOOLS'\n",
    "column_names_schools = [row[0] for row in results1]\n",
    "results2 = %sql Select colname from syscat.columns where tabname = 'CHICAGO_CRIME_DATA'\n",
    "column_names_crime = [row[0] for row in results2]\n",
    "results3 = %sql Select colname from syscat.columns where tabname = 'CENSUS_DATA'\n",
    "column_names_census = [row[0] for row in results3]\n",
    "\n",
    "set1 = set(column_names_schools)\n",
    "set2 = set(column_names_crime)\n",
    "set3 = set(column_names_census)\n",
    "\n",
    "common_elements = set2.intersection(set3)\n",
    "common_elements"
   ]
  },
  {
   "attachments": {},
   "cell_type": "markdown",
   "metadata": {},
   "source": [
    "Problem 3: List all case numbers for crimes involving minors?"
   ]
  },
  {
   "cell_type": "code",
   "execution_count": 52,
   "metadata": {},
   "outputs": [
    {
     "name": "stdout",
     "output_type": "stream",
     "text": [
      " * ibm_db_sa://ynr01638:***@764264db-9824-4b7c-82df-40d1b13897c2.bs2io90l08kqb1od8lcg.databases.appdomain.cloud:32536/bludb\n",
      "Done.\n"
     ]
    },
    {
     "data": {
      "text/html": [
       "<table>\n",
       "    <tr>\n",
       "        <th>case_number</th>\n",
       "    </tr>\n",
       "    <tr>\n",
       "        <td>HL266884</td>\n",
       "    </tr>\n",
       "    <tr>\n",
       "        <td>HK238408</td>\n",
       "    </tr>\n",
       "</table>"
      ],
      "text/plain": [
       "[('HL266884',), ('HK238408',)]"
      ]
     },
     "execution_count": 52,
     "metadata": {},
     "output_type": "execute_result"
    }
   ],
   "source": [
    "%%sql\n",
    "select case_number from CHICAGO_CRIME_DATA where description like '%MINOR%' "
   ]
  },
  {
   "attachments": {},
   "cell_type": "markdown",
   "metadata": {},
   "source": [
    "Problem 4: List all kidnapping crimes involving a child?(children are not considered minors for the purposes of crime analysis)"
   ]
  },
  {
   "cell_type": "code",
   "execution_count": 66,
   "metadata": {},
   "outputs": [
    {
     "name": "stdout",
     "output_type": "stream",
     "text": [
      " * ibm_db_sa://ynr01638:***@764264db-9824-4b7c-82df-40d1b13897c2.bs2io90l08kqb1od8lcg.databases.appdomain.cloud:32536/bludb\n",
      "Done.\n"
     ]
    },
    {
     "data": {
      "text/html": [
       "<table>\n",
       "    <tr>\n",
       "        <th>id</th>\n",
       "        <th>case_number</th>\n",
       "        <th>DATE</th>\n",
       "        <th>block</th>\n",
       "        <th>iucr</th>\n",
       "        <th>primary_type</th>\n",
       "        <th>description</th>\n",
       "        <th>location_description</th>\n",
       "        <th>arrest</th>\n",
       "        <th>domestic</th>\n",
       "        <th>beat</th>\n",
       "        <th>district</th>\n",
       "        <th>ward</th>\n",
       "        <th>community_area_number</th>\n",
       "        <th>fbicode</th>\n",
       "        <th>x_coordinate</th>\n",
       "        <th>y_coordinate</th>\n",
       "        <th>YEAR</th>\n",
       "        <th>latitude</th>\n",
       "        <th>longitude</th>\n",
       "        <th>location</th>\n",
       "    </tr>\n",
       "    <tr>\n",
       "        <td>5276766</td>\n",
       "        <td>HN144152</td>\n",
       "        <td>2007-01-26</td>\n",
       "        <td>050XX W VAN BUREN ST</td>\n",
       "        <td>1792</td>\n",
       "        <td>KIDNAPPING</td>\n",
       "        <td>CHILD ABDUCTION/STRANGER</td>\n",
       "        <td>STREET</td>\n",
       "        <td>FALSE</td>\n",
       "        <td>FALSE</td>\n",
       "        <td>1533</td>\n",
       "        <td>15</td>\n",
       "        <td>29</td>\n",
       "        <td>25</td>\n",
       "        <td>20</td>\n",
       "        <td>1143050</td>\n",
       "        <td>1897546</td>\n",
       "        <td>2007</td>\n",
       "        <td>41.87490841</td>\n",
       "        <td>-87.75024931</td>\n",
       "        <td>(41.874908413, -87.750249307)</td>\n",
       "    </tr>\n",
       "</table>"
      ],
      "text/plain": [
       "[(5276766, 'HN144152', datetime.date(2007, 1, 26), '050XX W VAN BUREN ST', '1792', 'KIDNAPPING', 'CHILD ABDUCTION/STRANGER', 'STREET', 'FALSE', 'FALSE', 1533, 15, 29, 25, '20', 1143050, 1897546, 2007, Decimal('41.87490841'), Decimal('-87.75024931'), '(41.874908413, -87.750249307)')]"
      ]
     },
     "execution_count": 66,
     "metadata": {},
     "output_type": "execute_result"
    }
   ],
   "source": [
    "%%sql\n",
    "select * from CHICAGO_CRIME_DATA where description like '%CHILD%' and primary_type = 'KIDNAPPING'"
   ]
  },
  {
   "attachments": {},
   "cell_type": "markdown",
   "metadata": {},
   "source": [
    "Problem 5: What kind of crimes were recorded at schools?"
   ]
  },
  {
   "cell_type": "code",
   "execution_count": 71,
   "metadata": {},
   "outputs": [
    {
     "name": "stdout",
     "output_type": "stream",
     "text": [
      " * ibm_db_sa://ynr01638:***@764264db-9824-4b7c-82df-40d1b13897c2.bs2io90l08kqb1od8lcg.databases.appdomain.cloud:32536/bludb\n",
      "Done.\n"
     ]
    },
    {
     "data": {
      "text/html": [
       "<table>\n",
       "    <tr>\n",
       "        <th>primary_type</th>\n",
       "        <th>description</th>\n",
       "        <th>location_description</th>\n",
       "    </tr>\n",
       "    <tr>\n",
       "        <td>BATTERY</td>\n",
       "        <td>SIMPLE</td>\n",
       "        <td>SCHOOL, PUBLIC, GROUNDS</td>\n",
       "    </tr>\n",
       "    <tr>\n",
       "        <td>BATTERY</td>\n",
       "        <td>PRO EMP HANDS NO/MIN INJURY</td>\n",
       "        <td>SCHOOL, PUBLIC, BUILDING</td>\n",
       "    </tr>\n",
       "    <tr>\n",
       "        <td>BATTERY</td>\n",
       "        <td>SIMPLE</td>\n",
       "        <td>SCHOOL, PUBLIC, BUILDING</td>\n",
       "    </tr>\n",
       "    <tr>\n",
       "        <td>BATTERY</td>\n",
       "        <td>SIMPLE</td>\n",
       "        <td>SCHOOL, PUBLIC, BUILDING</td>\n",
       "    </tr>\n",
       "    <tr>\n",
       "        <td>BATTERY</td>\n",
       "        <td>SIMPLE</td>\n",
       "        <td>SCHOOL, PUBLIC, GROUNDS</td>\n",
       "    </tr>\n",
       "    <tr>\n",
       "        <td>CRIMINAL DAMAGE</td>\n",
       "        <td>TO VEHICLE</td>\n",
       "        <td>SCHOOL, PUBLIC, GROUNDS</td>\n",
       "    </tr>\n",
       "    <tr>\n",
       "        <td>NARCOTICS</td>\n",
       "        <td>POSS: HEROIN(WHITE)</td>\n",
       "        <td>SCHOOL, PUBLIC, GROUNDS</td>\n",
       "    </tr>\n",
       "    <tr>\n",
       "        <td>NARCOTICS</td>\n",
       "        <td>MANU/DEL:CANNABIS 10GM OR LESS</td>\n",
       "        <td>SCHOOL, PUBLIC, BUILDING</td>\n",
       "    </tr>\n",
       "    <tr>\n",
       "        <td>ASSAULT</td>\n",
       "        <td>PRO EMP HANDS NO/MIN INJURY</td>\n",
       "        <td>SCHOOL, PUBLIC, GROUNDS</td>\n",
       "    </tr>\n",
       "    <tr>\n",
       "        <td>CRIMINAL TRESPA</td>\n",
       "        <td>TO LAND</td>\n",
       "        <td>SCHOOL, PUBLIC, GROUNDS</td>\n",
       "    </tr>\n",
       "    <tr>\n",
       "        <td>PUBLIC PEACE VI</td>\n",
       "        <td>BOMB THREAT</td>\n",
       "        <td>SCHOOL, PRIVATE, BUILDING</td>\n",
       "    </tr>\n",
       "    <tr>\n",
       "        <td>PUBLIC PEACE VI</td>\n",
       "        <td>BOMB THREAT</td>\n",
       "        <td>SCHOOL, PUBLIC, BUILDING</td>\n",
       "    </tr>\n",
       "</table>"
      ],
      "text/plain": [
       "[('BATTERY', 'SIMPLE', 'SCHOOL, PUBLIC, GROUNDS'),\n",
       " ('BATTERY', 'PRO EMP HANDS NO/MIN INJURY', 'SCHOOL, PUBLIC, BUILDING'),\n",
       " ('BATTERY', 'SIMPLE', 'SCHOOL, PUBLIC, BUILDING'),\n",
       " ('BATTERY', 'SIMPLE', 'SCHOOL, PUBLIC, BUILDING'),\n",
       " ('BATTERY', 'SIMPLE', 'SCHOOL, PUBLIC, GROUNDS'),\n",
       " ('CRIMINAL DAMAGE', 'TO VEHICLE', 'SCHOOL, PUBLIC, GROUNDS'),\n",
       " ('NARCOTICS', 'POSS: HEROIN(WHITE)', 'SCHOOL, PUBLIC, GROUNDS'),\n",
       " ('NARCOTICS', 'MANU/DEL:CANNABIS 10GM OR LESS', 'SCHOOL, PUBLIC, BUILDING'),\n",
       " ('ASSAULT', 'PRO EMP HANDS NO/MIN INJURY', 'SCHOOL, PUBLIC, GROUNDS'),\n",
       " ('CRIMINAL TRESPA', 'TO LAND', 'SCHOOL, PUBLIC, GROUNDS'),\n",
       " ('PUBLIC PEACE VI', 'BOMB THREAT', 'SCHOOL, PRIVATE, BUILDING'),\n",
       " ('PUBLIC PEACE VI', 'BOMB THREAT', 'SCHOOL, PUBLIC, BUILDING')]"
      ]
     },
     "execution_count": 71,
     "metadata": {},
     "output_type": "execute_result"
    }
   ],
   "source": [
    "%%sql\n",
    "select primary_type , description, location_description from CHICAGO_CRIME_DATA \n",
    "where location_description like '%SCHOOL%'"
   ]
  },
  {
   "attachments": {},
   "cell_type": "markdown",
   "metadata": {},
   "source": [
    "Problem 6: List the average safety score for all types of schools."
   ]
  },
  {
   "cell_type": "code",
   "execution_count": 76,
   "metadata": {},
   "outputs": [
    {
     "name": "stdout",
     "output_type": "stream",
     "text": [
      " * ibm_db_sa://ynr01638:***@764264db-9824-4b7c-82df-40d1b13897c2.bs2io90l08kqb1od8lcg.databases.appdomain.cloud:32536/bludb\n",
      "Done.\n"
     ]
    },
    {
     "data": {
      "text/html": [
       "<table>\n",
       "    <tr>\n",
       "        <th>avg_score</th>\n",
       "        <th>Elementary, Middle, or High School</th>\n",
       "    </tr>\n",
       "    <tr>\n",
       "        <td>49</td>\n",
       "        <td>ES</td>\n",
       "    </tr>\n",
       "    <tr>\n",
       "        <td>49</td>\n",
       "        <td>HS</td>\n",
       "    </tr>\n",
       "    <tr>\n",
       "        <td>48</td>\n",
       "        <td>MS</td>\n",
       "    </tr>\n",
       "</table>"
      ],
      "text/plain": [
       "[(49, 'ES'), (49, 'HS'), (48, 'MS')]"
      ]
     },
     "execution_count": 76,
     "metadata": {},
     "output_type": "execute_result"
    }
   ],
   "source": [
    "%%sql\n",
    "select AVG(SAFETY_SCORE) as AVG_SCORE, \"Elementary, Middle, or High School\" from CHICAGO_PUBLIC_SCHOOLS \n",
    "GROUP BY \"Elementary, Middle, or High School\""
   ]
  },
  {
   "attachments": {},
   "cell_type": "markdown",
   "metadata": {},
   "source": [
    "Problem 7: List 5 community areas with highest % of households below poverty line."
   ]
  },
  {
   "cell_type": "code",
   "execution_count": 79,
   "metadata": {},
   "outputs": [
    {
     "name": "stdout",
     "output_type": "stream",
     "text": [
      " * ibm_db_sa://ynr01638:***@764264db-9824-4b7c-82df-40d1b13897c2.bs2io90l08kqb1od8lcg.databases.appdomain.cloud:32536/bludb\n",
      "Done.\n"
     ]
    },
    {
     "data": {
      "text/html": [
       "<table>\n",
       "    <tr>\n",
       "        <th>community_area_name</th>\n",
       "        <th>percent_households_below_poverty</th>\n",
       "    </tr>\n",
       "    <tr>\n",
       "        <td>Riverdale</td>\n",
       "        <td>56.5</td>\n",
       "    </tr>\n",
       "    <tr>\n",
       "        <td>Fuller Park</td>\n",
       "        <td>51.2</td>\n",
       "    </tr>\n",
       "    <tr>\n",
       "        <td>Englewood</td>\n",
       "        <td>46.6</td>\n",
       "    </tr>\n",
       "    <tr>\n",
       "        <td>North Lawndale</td>\n",
       "        <td>43.1</td>\n",
       "    </tr>\n",
       "    <tr>\n",
       "        <td>East Garfield Park</td>\n",
       "        <td>42.4</td>\n",
       "    </tr>\n",
       "</table>"
      ],
      "text/plain": [
       "[('Riverdale', Decimal('56.5')),\n",
       " ('Fuller Park', Decimal('51.2')),\n",
       " ('Englewood', Decimal('46.6')),\n",
       " ('North Lawndale', Decimal('43.1')),\n",
       " ('East Garfield Park', Decimal('42.4'))]"
      ]
     },
     "execution_count": 79,
     "metadata": {},
     "output_type": "execute_result"
    }
   ],
   "source": [
    "%%sql\n",
    "select COMMUNITY_AREA_NAME, PERCENT_HOUSEHOLDS_BELOW_POVERTY from CENSUS_DATA \n",
    "order by PERCENT_HOUSEHOLDS_BELOW_POVERTY desc \n",
    "limit 5 "
   ]
  },
  {
   "attachments": {},
   "cell_type": "markdown",
   "metadata": {},
   "source": [
    "Problem 8: Which community area(number) is most crime prone?"
   ]
  },
  {
   "cell_type": "code",
   "execution_count": 90,
   "metadata": {},
   "outputs": [
    {
     "name": "stdout",
     "output_type": "stream",
     "text": [
      " * ibm_db_sa://ynr01638:***@764264db-9824-4b7c-82df-40d1b13897c2.bs2io90l08kqb1od8lcg.databases.appdomain.cloud:32536/bludb\n",
      "Done.\n"
     ]
    },
    {
     "data": {
      "text/html": [
       "<table>\n",
       "    <tr>\n",
       "        <th>community_area_number</th>\n",
       "        <th>num_of_crimes</th>\n",
       "    </tr>\n",
       "    <tr>\n",
       "        <td>25</td>\n",
       "        <td>43</td>\n",
       "    </tr>\n",
       "</table>"
      ],
      "text/plain": [
       "[(25, 43)]"
      ]
     },
     "execution_count": 90,
     "metadata": {},
     "output_type": "execute_result"
    }
   ],
   "source": [
    "%%sql\n",
    "select COMMUNITY_AREA_NUMBER, count(*) as num_of_crimes from CHICAGO_CRIME_DATA \n",
    "where COMMUNITY_AREA_NUMBER IS NOT NULL\n",
    "group by COMMUNITY_AREA_NUMBER \n",
    "order by num_of_crimes desc \n",
    "limit 1"
   ]
  },
  {
   "attachments": {},
   "cell_type": "markdown",
   "metadata": {},
   "source": [
    "Problem 9: Use a sub-query to find the name of the community area with highest hardship index."
   ]
  },
  {
   "cell_type": "code",
   "execution_count": 92,
   "metadata": {},
   "outputs": [
    {
     "name": "stdout",
     "output_type": "stream",
     "text": [
      " * ibm_db_sa://ynr01638:***@764264db-9824-4b7c-82df-40d1b13897c2.bs2io90l08kqb1od8lcg.databases.appdomain.cloud:32536/bludb\n",
      "Done.\n"
     ]
    },
    {
     "data": {
      "text/html": [
       "<table>\n",
       "    <tr>\n",
       "        <th>community_area_name</th>\n",
       "    </tr>\n",
       "    <tr>\n",
       "        <td>Riverdale</td>\n",
       "    </tr>\n",
       "</table>"
      ],
      "text/plain": [
       "[('Riverdale',)]"
      ]
     },
     "execution_count": 92,
     "metadata": {},
     "output_type": "execute_result"
    }
   ],
   "source": [
    "%%sql\n",
    "select COMMUNITY_AREA_NAME from CENSUS_DATA \n",
    "where HARDSHIP_INDEX = (select max(HARDSHIP_INDEX) from CENSUS_DATA)"
   ]
  },
  {
   "attachments": {},
   "cell_type": "markdown",
   "metadata": {},
   "source": [
    "Problem 10: Use a sub-query to determine the Community Area Name with most number of crimes?"
   ]
  },
  {
   "cell_type": "code",
   "execution_count": 97,
   "metadata": {},
   "outputs": [
    {
     "name": "stdout",
     "output_type": "stream",
     "text": [
      " * ibm_db_sa://ynr01638:***@764264db-9824-4b7c-82df-40d1b13897c2.bs2io90l08kqb1od8lcg.databases.appdomain.cloud:32536/bludb\n",
      "Done.\n"
     ]
    },
    {
     "data": {
      "text/html": [
       "<table>\n",
       "    <tr>\n",
       "        <th>community_area_name</th>\n",
       "    </tr>\n",
       "    <tr>\n",
       "        <td>Austin</td>\n",
       "    </tr>\n",
       "</table>"
      ],
      "text/plain": [
       "[('Austin',)]"
      ]
     },
     "execution_count": 97,
     "metadata": {},
     "output_type": "execute_result"
    }
   ],
   "source": [
    "%%sql\n",
    "SELECT CENSUS_DATA.COMMUNITY_AREA_NAME\n",
    "FROM CENSUS_DATA\n",
    "WHERE CENSUS_DATA.COMMUNITY_AREA_NUMBER = (\n",
    "    SELECT CHICAGO_CRIME_DATA.COMMUNITY_AREA_NUMBER\n",
    "    FROM CHICAGO_CRIME_DATA\n",
    "    GROUP BY CHICAGO_CRIME_DATA.COMMUNITY_AREA_NUMBER\n",
    "    HAVING COUNT(*) = (\n",
    "        SELECT MAX(crime_count)\n",
    "        FROM (\n",
    "            SELECT COUNT(*) as crime_count\n",
    "            FROM CHICAGO_CRIME_DATA\n",
    "            GROUP BY COMMUNITY_AREA_NUMBER\n",
    "        ) subquery_max_count\n",
    "    )\n",
    "    LIMIT 1\n",
    ");\n"
   ]
  },
  {
   "cell_type": "code",
   "execution_count": null,
   "metadata": {},
   "outputs": [],
   "source": []
  }
 ],
 "metadata": {
  "kernelspec": {
   "display_name": "kafkacon",
   "language": "python",
   "name": "python3"
  },
  "language_info": {
   "codemirror_mode": {
    "name": "ipython",
    "version": 3
   },
   "file_extension": ".py",
   "mimetype": "text/x-python",
   "name": "python",
   "nbconvert_exporter": "python",
   "pygments_lexer": "ipython3",
   "version": "3.10.6"
  },
  "orig_nbformat": 4
 },
 "nbformat": 4,
 "nbformat_minor": 2
}
