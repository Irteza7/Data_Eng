{
 "cells": [
  {
   "attachments": {},
   "cell_type": "markdown",
   "metadata": {},
   "source": [
    "## Assignment: Check for Duplicates in a Dataset"
   ]
  },
  {
   "cell_type": "code",
   "execution_count": 12,
   "metadata": {},
   "outputs": [
    {
     "name": "stdout",
     "output_type": "stream",
     "text": [
      "Checking duplicates on columns: ['col_1']\n",
      "Count: 5\n",
      "Samples: \n",
      "  col_1  number_of_duplicates\n",
      "0     A                     3\n",
      "1     B                     2\n",
      "\n",
      "Checking duplicates on columns: ['col_1', 'col_2']\n",
      "Count: 1\n",
      "Samples: \n",
      "  col_1 col_2  number_of_duplicates\n",
      "0     A     a                     1\n",
      "\n",
      "Checking duplicates on columns: ['col_1', 'col_2', 'col_3']\n",
      "Count: 0\n",
      "Samples: \n",
      "Empty DataFrame\n",
      "Columns: [col_1, col_2, col_3, number_of_duplicates]\n",
      "Index: []\n",
      "\n",
      "Checking duplicates on columns: ['col_3', 'col_4']\n",
      "Count: 5\n",
      "Samples: \n",
      "  col_3  col_4  number_of_duplicates\n",
      "0     x      1                     5\n",
      "\n"
     ]
    }
   ],
   "source": [
    "import pandas as pd\n",
    "\n",
    "def check_duplicates(df, columns):\n",
    "    # Check inputs\n",
    "    if not isinstance(df, pd.DataFrame):\n",
    "        raise TypeError(\"Input df must be a pandas DataFrame.\")\n",
    "    if not isinstance(columns, list):\n",
    "        raise TypeError(\"Input columns must be a list.\")\n",
    "    if not all(isinstance(col, str) for col in columns):\n",
    "        raise TypeError(\"All elements in columns must be string.\")\n",
    "    if not all(col in df.columns for col in columns):\n",
    "        raise ValueError(\"All elements in columns must correspond to column names in the DataFrame.\")\n",
    "\n",
    "    try:\n",
    "        # Check for duplicates\n",
    "        duplicates = df.duplicated(subset=columns, keep='first')\n",
    "\n",
    "        # Count the number of duplicate rows\n",
    "        count = duplicates.sum()\n",
    "\n",
    "        # Create a dataframe with group count of duplicate rows\n",
    "        samples = df[duplicates].groupby(columns).size().reset_index(name='number_of_duplicates')\n",
    "\n",
    "        return {'count': count, 'samples': samples}\n",
    "    \n",
    "    except Exception as e:\n",
    "        print(f\"An error occurred: {e}\")\n",
    "        return None\n",
    "\n",
    "\n",
    "\n",
    "\n",
    "df_1 = pd.DataFrame(\n",
    "    data=[\n",
    "        ['A','a', 'x', 1],\n",
    "        ['A','b', 'x', 1],\n",
    "        ['A','c', 'x', 1],\n",
    "        ['B','a', 'x', 1],\n",
    "        ['B','b', 'x', 1],\n",
    "        ['B','c', 'x', 1],\n",
    "        ['A','a', 'y', 1],\n",
    "    ],\n",
    "    columns=['col_1', 'col_2', 'col_3', 'col_4']\n",
    ")\n",
    "\n",
    "column_lists = [['col_1'], ['col_1', 'col_2'], ['col_1', 'col_2', 'col_3'], ['col_3','col_4']]\n",
    "\n",
    "for cols in column_lists:\n",
    "    print(f\"Checking duplicates on columns: {cols}\")\n",
    "    result = check_duplicates(df_1, cols)\n",
    "    print(f\"Count: {result['count']}\")\n",
    "    print(f\"Samples: \\n{result['samples']}\\n\")"
   ]
  },
  {
   "attachments": {},
   "cell_type": "markdown",
   "metadata": {},
   "source": [
    "### Documentation"
   ]
  },
  {
   "attachments": {},
   "cell_type": "markdown",
   "metadata": {},
   "source": [
    "    check_duplicates(df, columns)\n",
    "\n",
    "    Purpose:\n",
    "\n",
    "This function checks a pandas DataFrame for duplicate rows based on specified columns.\n",
    "\n",
    "    Input:\n",
    "\n",
    "df: pandas DataFrame.\n",
    "\n",
    "columns: List of column names as strings.\n",
    "\n",
    "    Output:\n",
    "\n",
    "A dictionary with count (number of duplicated rows) and samples (DataFrame of unique duplicate rows with counts).\n",
    "\n",
    "    Notes:\n",
    "\n",
    "- Assumption is that the dataset is pandas DataFrame.\n",
    "- Function checks that df is a DataFrame and columns is a list of strings.\n",
    "- If a column does not exist, a KeyError will occur.\n",
    "- If no duplicates are found, count is 0 and samples is an empty DataFrame.\n",
    "- Errors during execution will print an error message and return None."
   ]
  }
 ],
 "metadata": {
  "kernelspec": {
   "display_name": "kafkacon",
   "language": "python",
   "name": "python3"
  },
  "language_info": {
   "codemirror_mode": {
    "name": "ipython",
    "version": 3
   },
   "file_extension": ".py",
   "mimetype": "text/x-python",
   "name": "python",
   "nbconvert_exporter": "python",
   "pygments_lexer": "ipython3",
   "version": "3.10.6"
  },
  "orig_nbformat": 4
 },
 "nbformat": 4,
 "nbformat_minor": 2
}
